{
  "nbformat": 4,
  "nbformat_minor": 0,
  "metadata": {
    "colab": {
      "provenance": [],
      "machine_shape": "hm",
      "authorship_tag": "ABX9TyMqcgUl+g+r3Kzj0zmsaBpz",
      "include_colab_link": true
    },
    "kernelspec": {
      "name": "python3",
      "display_name": "Python 3"
    },
    "language_info": {
      "name": "python"
    }
  },
  "cells": [
    {
      "cell_type": "markdown",
      "metadata": {
        "id": "view-in-github",
        "colab_type": "text"
      },
      "source": [
        "<a href=\"https://colab.research.google.com/github/SeenaKhosravi/NASS/blob/main/NASS_Analysis.ipynb\" target=\"_parent\"><img src=\"https://colab.research.google.com/assets/colab-badge.svg\" alt=\"Open In Colab\"/></a>"
      ]
    },
    {
      "cell_type": "markdown",
      "metadata": {
        "id": "bbe6c3e6"
      },
      "source": [
        "# Socioecnomic and Demographic Drivers of Ambulatory Surgery Usage\n",
        "### HCUP NASS 2020 – Reproducible Pipeline (Python + R)\n",
        "\n",
        "Author : Seena Khosravi, MD   •   Last build : `9-1-2025`\n",
        "\n",
        "DUA compliant — **use simulated file unless you have purchased dataset from HCUP. Will load full dataset from your Google Drive**"
      ]
    },
    {
      "cell_type": "markdown",
      "metadata": {
        "id": "019b6fe9"
      },
      "source": [
        "-----------------------------------------------------------------\n",
        "##Design notes\n",
        "#### > Python cells handle “plumbing” (file I/O, drive-mounting, rpy2 set-up, small pandas previews).\n",
        "#### > R cells (prefixed by `%%R`) reproduce/extend your original analysis: survey weights, Census look-ups, multilevel models, plots, etc.\n",
        "#### > The notebook runs against the public, 1 GB simulated file at\n",
        "  https://github.com/SeenaKhosravi/NASS/releases/download/v1.0.0/nass_2020_simulated.csv\n",
        "#### > A single flag lets you switch to a locally mounted Drive copy of the full 7.8 M-row HCUP release.\n",
        "#### > All package installs are isolated in their respective language cells; data.table syntax follows current recommendations [cran.r-project.org](https://cran.r-project.org/web/packages/data.table/refman/data.table.html).\n",
        "-----------------------------------------------------------------\n"
      ]
    },
    {
      "cell_type": "markdown",
      "metadata": {
        "id": "f14bf61b"
      },
      "source": [
        "-----------------------------------------------------------------\n",
        "# 2  Runtime selector (Python)"
      ]
    },
    {
      "cell_type": "code",
      "metadata": {
        "cellView": "form",
        "id": "9b279b8c"
      },
      "source": [
        "#@title ▶️ CONFIG — choose data source & toggle verbose mode\n",
        "USE_DRIVE      = False  # True ➜ mount Google Drive and read full HCUP files\n",
        "VERBOSE_PRINTS = True   # False ➜ suppress head()/str() previews"
      ],
      "execution_count": 2,
      "outputs": []
    },
    {
      "cell_type": "markdown",
      "metadata": {
        "id": "e1f7b978"
      },
      "source": [
        "-----------------------------------------------------------------\n",
        "# 3  Optional Drive mount (Python)"
      ]
    },
    {
      "cell_type": "code",
      "metadata": {
        "id": "f60c4b73"
      },
      "source": [
        "if USE_DRIVE:\n",
        "    from google.colab import drive\n",
        "    drive.mount('/content/drive')"
      ],
      "execution_count": null,
      "outputs": []
    },
    {
      "cell_type": "markdown",
      "metadata": {
        "id": "adc327a0"
      },
      "source": [
        "-----------------------------------------------------------------\n",
        "# 4  Python | Grab the CSV (streaming-friendly)"
      ]
    },
    {
      "cell_type": "code",
      "metadata": {
        "colab": {
          "base_uri": "https://localhost:8080/"
        },
        "id": "9ba8c1f1",
        "outputId": "2f658cb3-8c9e-4c3c-ce1a-098e7c530b06"
      },
      "source": [
        "import pathlib, subprocess, textwrap, os, pandas as pd, numpy as np, gzip, shutil, sys, json, io, requests\n",
        "\n",
        "DATA_PATH = pathlib.Path('/content') / ('nass_2020_simulated.csv' if not USE_DRIVE else\n",
        "                                        'drive/MyDrive/hcup/nass_2020_full.csv')\n",
        "\n",
        "if not DATA_PATH.exists() and not USE_DRIVE:\n",
        "    url = \"https://github.com/SeenaKhosravi/NASS/releases/download/v1.0.0/nass_2020_simulated.csv\"\n",
        "    !wget -q --show-progress -O \"{DATA_PATH}\" \"{url}\"\n",
        "\n",
        "print(f\"✔️ Data ready → {DATA_PATH}\")"
      ],
      "execution_count": 3,
      "outputs": [
        {
          "output_type": "stream",
          "name": "stdout",
          "text": [
            "✔️ Data ready → /content/nass_2020_simulated.csv\n"
          ]
        }
      ]
    },
    {
      "cell_type": "markdown",
      "metadata": {
        "id": "4969c3bc"
      },
      "source": [
        "-----------------------------------------------------------------\n",
        "# 5  Python | Show 5 rows to verify"
      ]
    },
    {
      "cell_type": "code",
      "metadata": {
        "colab": {
          "base_uri": "https://localhost:8080/",
          "height": 256
        },
        "id": "caa0916a",
        "outputId": "e73b127c-95c7-45ff-c11e-1155585e2713"
      },
      "source": [
        "sample_df = pd.read_csv(DATA_PATH, nrows=5)\n",
        "if VERBOSE_PRINTS: display(sample_df)"
      ],
      "execution_count": 4,
      "outputs": [
        {
          "output_type": "display_data",
          "data": {
            "text/plain": [
              "   KEY_NASS  HOSP_NASS  HOSP_TEACH  HOSP_LOCATION  HOSP_LOCTEACH  HOSP_REGION  \\\n",
              "0  90000001      10059           1              1              3            1   \n",
              "1  90000002      21017           1              1              3            2   \n",
              "2  90000003      20184           1              1              3            2   \n",
              "3  90000004      30860           0              1              2            3   \n",
              "4  90000005      20420           1              1              3            2   \n",
              "\n",
              "   HOSP_BEDSIZE_CAT    DISCWT  NASS_STRATUM  N_DISC_U  ...  DXCCSR_SYM011  \\\n",
              "0                 3  1.288180            58    381183  ...              0   \n",
              "1                 3  1.040243            17    984415  ...              0   \n",
              "2                 3  1.040243            17    984415  ...              0   \n",
              "3                 1  1.689489            27    122282  ...              0   \n",
              "4                 3  1.040243            17    984415  ...              0   \n",
              "\n",
              "   DXCCSR_SYM012  DXCCSR_SYM013  DXCCSR_SYM014  DXCCSR_SYM015  DXCCSR_SYM016  \\\n",
              "0              0              0              0              0              0   \n",
              "1              0              0              0              0              0   \n",
              "2              0              0              0              0              0   \n",
              "3              0              0              0              0              0   \n",
              "4              0              0              0              0              0   \n",
              "\n",
              "   DXCCSR_SYM017  DXCCSR_VERSION  AGEGRP  AGEGRP2  \n",
              "0              0          2022.1    0-17     0-17  \n",
              "1              0          2022.1     65+    65-69  \n",
              "2              0          2022.1   18-64    55-64  \n",
              "3              0          2022.1     65+    65-69  \n",
              "4              0          2022.1     65+      80+  \n",
              "\n",
              "[5 rows x 675 columns]"
            ],
            "text/html": [
              "\n",
              "  <div id=\"df-3aa7d0c4-5024-4f5b-8abf-24d88631c9c8\" class=\"colab-df-container\">\n",
              "    <div>\n",
              "<style scoped>\n",
              "    .dataframe tbody tr th:only-of-type {\n",
              "        vertical-align: middle;\n",
              "    }\n",
              "\n",
              "    .dataframe tbody tr th {\n",
              "        vertical-align: top;\n",
              "    }\n",
              "\n",
              "    .dataframe thead th {\n",
              "        text-align: right;\n",
              "    }\n",
              "</style>\n",
              "<table border=\"1\" class=\"dataframe\">\n",
              "  <thead>\n",
              "    <tr style=\"text-align: right;\">\n",
              "      <th></th>\n",
              "      <th>KEY_NASS</th>\n",
              "      <th>HOSP_NASS</th>\n",
              "      <th>HOSP_TEACH</th>\n",
              "      <th>HOSP_LOCATION</th>\n",
              "      <th>HOSP_LOCTEACH</th>\n",
              "      <th>HOSP_REGION</th>\n",
              "      <th>HOSP_BEDSIZE_CAT</th>\n",
              "      <th>DISCWT</th>\n",
              "      <th>NASS_STRATUM</th>\n",
              "      <th>N_DISC_U</th>\n",
              "      <th>...</th>\n",
              "      <th>DXCCSR_SYM011</th>\n",
              "      <th>DXCCSR_SYM012</th>\n",
              "      <th>DXCCSR_SYM013</th>\n",
              "      <th>DXCCSR_SYM014</th>\n",
              "      <th>DXCCSR_SYM015</th>\n",
              "      <th>DXCCSR_SYM016</th>\n",
              "      <th>DXCCSR_SYM017</th>\n",
              "      <th>DXCCSR_VERSION</th>\n",
              "      <th>AGEGRP</th>\n",
              "      <th>AGEGRP2</th>\n",
              "    </tr>\n",
              "  </thead>\n",
              "  <tbody>\n",
              "    <tr>\n",
              "      <th>0</th>\n",
              "      <td>90000001</td>\n",
              "      <td>10059</td>\n",
              "      <td>1</td>\n",
              "      <td>1</td>\n",
              "      <td>3</td>\n",
              "      <td>1</td>\n",
              "      <td>3</td>\n",
              "      <td>1.288180</td>\n",
              "      <td>58</td>\n",
              "      <td>381183</td>\n",
              "      <td>...</td>\n",
              "      <td>0</td>\n",
              "      <td>0</td>\n",
              "      <td>0</td>\n",
              "      <td>0</td>\n",
              "      <td>0</td>\n",
              "      <td>0</td>\n",
              "      <td>0</td>\n",
              "      <td>2022.1</td>\n",
              "      <td>0-17</td>\n",
              "      <td>0-17</td>\n",
              "    </tr>\n",
              "    <tr>\n",
              "      <th>1</th>\n",
              "      <td>90000002</td>\n",
              "      <td>21017</td>\n",
              "      <td>1</td>\n",
              "      <td>1</td>\n",
              "      <td>3</td>\n",
              "      <td>2</td>\n",
              "      <td>3</td>\n",
              "      <td>1.040243</td>\n",
              "      <td>17</td>\n",
              "      <td>984415</td>\n",
              "      <td>...</td>\n",
              "      <td>0</td>\n",
              "      <td>0</td>\n",
              "      <td>0</td>\n",
              "      <td>0</td>\n",
              "      <td>0</td>\n",
              "      <td>0</td>\n",
              "      <td>0</td>\n",
              "      <td>2022.1</td>\n",
              "      <td>65+</td>\n",
              "      <td>65-69</td>\n",
              "    </tr>\n",
              "    <tr>\n",
              "      <th>2</th>\n",
              "      <td>90000003</td>\n",
              "      <td>20184</td>\n",
              "      <td>1</td>\n",
              "      <td>1</td>\n",
              "      <td>3</td>\n",
              "      <td>2</td>\n",
              "      <td>3</td>\n",
              "      <td>1.040243</td>\n",
              "      <td>17</td>\n",
              "      <td>984415</td>\n",
              "      <td>...</td>\n",
              "      <td>0</td>\n",
              "      <td>0</td>\n",
              "      <td>0</td>\n",
              "      <td>0</td>\n",
              "      <td>0</td>\n",
              "      <td>0</td>\n",
              "      <td>0</td>\n",
              "      <td>2022.1</td>\n",
              "      <td>18-64</td>\n",
              "      <td>55-64</td>\n",
              "    </tr>\n",
              "    <tr>\n",
              "      <th>3</th>\n",
              "      <td>90000004</td>\n",
              "      <td>30860</td>\n",
              "      <td>0</td>\n",
              "      <td>1</td>\n",
              "      <td>2</td>\n",
              "      <td>3</td>\n",
              "      <td>1</td>\n",
              "      <td>1.689489</td>\n",
              "      <td>27</td>\n",
              "      <td>122282</td>\n",
              "      <td>...</td>\n",
              "      <td>0</td>\n",
              "      <td>0</td>\n",
              "      <td>0</td>\n",
              "      <td>0</td>\n",
              "      <td>0</td>\n",
              "      <td>0</td>\n",
              "      <td>0</td>\n",
              "      <td>2022.1</td>\n",
              "      <td>65+</td>\n",
              "      <td>65-69</td>\n",
              "    </tr>\n",
              "    <tr>\n",
              "      <th>4</th>\n",
              "      <td>90000005</td>\n",
              "      <td>20420</td>\n",
              "      <td>1</td>\n",
              "      <td>1</td>\n",
              "      <td>3</td>\n",
              "      <td>2</td>\n",
              "      <td>3</td>\n",
              "      <td>1.040243</td>\n",
              "      <td>17</td>\n",
              "      <td>984415</td>\n",
              "      <td>...</td>\n",
              "      <td>0</td>\n",
              "      <td>0</td>\n",
              "      <td>0</td>\n",
              "      <td>0</td>\n",
              "      <td>0</td>\n",
              "      <td>0</td>\n",
              "      <td>0</td>\n",
              "      <td>2022.1</td>\n",
              "      <td>65+</td>\n",
              "      <td>80+</td>\n",
              "    </tr>\n",
              "  </tbody>\n",
              "</table>\n",
              "<p>5 rows × 675 columns</p>\n",
              "</div>\n",
              "    <div class=\"colab-df-buttons\">\n",
              "\n",
              "  <div class=\"colab-df-container\">\n",
              "    <button class=\"colab-df-convert\" onclick=\"convertToInteractive('df-3aa7d0c4-5024-4f5b-8abf-24d88631c9c8')\"\n",
              "            title=\"Convert this dataframe to an interactive table.\"\n",
              "            style=\"display:none;\">\n",
              "\n",
              "  <svg xmlns=\"http://www.w3.org/2000/svg\" height=\"24px\" viewBox=\"0 -960 960 960\">\n",
              "    <path d=\"M120-120v-720h720v720H120Zm60-500h600v-160H180v160Zm220 220h160v-160H400v160Zm0 220h160v-160H400v160ZM180-400h160v-160H180v160Zm440 0h160v-160H620v160ZM180-180h160v-160H180v160Zm440 0h160v-160H620v160Z\"/>\n",
              "  </svg>\n",
              "    </button>\n",
              "\n",
              "  <style>\n",
              "    .colab-df-container {\n",
              "      display:flex;\n",
              "      gap: 12px;\n",
              "    }\n",
              "\n",
              "    .colab-df-convert {\n",
              "      background-color: #E8F0FE;\n",
              "      border: none;\n",
              "      border-radius: 50%;\n",
              "      cursor: pointer;\n",
              "      display: none;\n",
              "      fill: #1967D2;\n",
              "      height: 32px;\n",
              "      padding: 0 0 0 0;\n",
              "      width: 32px;\n",
              "    }\n",
              "\n",
              "    .colab-df-convert:hover {\n",
              "      background-color: #E2EBFA;\n",
              "      box-shadow: 0px 1px 2px rgba(60, 64, 67, 0.3), 0px 1px 3px 1px rgba(60, 64, 67, 0.15);\n",
              "      fill: #174EA6;\n",
              "    }\n",
              "\n",
              "    .colab-df-buttons div {\n",
              "      margin-bottom: 4px;\n",
              "    }\n",
              "\n",
              "    [theme=dark] .colab-df-convert {\n",
              "      background-color: #3B4455;\n",
              "      fill: #D2E3FC;\n",
              "    }\n",
              "\n",
              "    [theme=dark] .colab-df-convert:hover {\n",
              "      background-color: #434B5C;\n",
              "      box-shadow: 0px 1px 3px 1px rgba(0, 0, 0, 0.15);\n",
              "      filter: drop-shadow(0px 1px 2px rgba(0, 0, 0, 0.3));\n",
              "      fill: #FFFFFF;\n",
              "    }\n",
              "  </style>\n",
              "\n",
              "    <script>\n",
              "      const buttonEl =\n",
              "        document.querySelector('#df-3aa7d0c4-5024-4f5b-8abf-24d88631c9c8 button.colab-df-convert');\n",
              "      buttonEl.style.display =\n",
              "        google.colab.kernel.accessAllowed ? 'block' : 'none';\n",
              "\n",
              "      async function convertToInteractive(key) {\n",
              "        const element = document.querySelector('#df-3aa7d0c4-5024-4f5b-8abf-24d88631c9c8');\n",
              "        const dataTable =\n",
              "          await google.colab.kernel.invokeFunction('convertToInteractive',\n",
              "                                                    [key], {});\n",
              "        if (!dataTable) return;\n",
              "\n",
              "        const docLinkHtml = 'Like what you see? Visit the ' +\n",
              "          '<a target=\"_blank\" href=https://colab.research.google.com/notebooks/data_table.ipynb>data table notebook</a>'\n",
              "          + ' to learn more about interactive tables.';\n",
              "        element.innerHTML = '';\n",
              "        dataTable['output_type'] = 'display_data';\n",
              "        await google.colab.output.renderOutput(dataTable, element);\n",
              "        const docLink = document.createElement('div');\n",
              "        docLink.innerHTML = docLinkHtml;\n",
              "        element.appendChild(docLink);\n",
              "      }\n",
              "    </script>\n",
              "  </div>\n",
              "\n",
              "\n",
              "    <div id=\"df-3f395423-cc32-439e-a5bb-38050c581277\">\n",
              "      <button class=\"colab-df-quickchart\" onclick=\"quickchart('df-3f395423-cc32-439e-a5bb-38050c581277')\"\n",
              "                title=\"Suggest charts\"\n",
              "                style=\"display:none;\">\n",
              "\n",
              "<svg xmlns=\"http://www.w3.org/2000/svg\" height=\"24px\"viewBox=\"0 0 24 24\"\n",
              "     width=\"24px\">\n",
              "    <g>\n",
              "        <path d=\"M19 3H5c-1.1 0-2 .9-2 2v14c0 1.1.9 2 2 2h14c1.1 0 2-.9 2-2V5c0-1.1-.9-2-2-2zM9 17H7v-7h2v7zm4 0h-2V7h2v10zm4 0h-2v-4h2v4z\"/>\n",
              "    </g>\n",
              "</svg>\n",
              "      </button>\n",
              "\n",
              "<style>\n",
              "  .colab-df-quickchart {\n",
              "      --bg-color: #E8F0FE;\n",
              "      --fill-color: #1967D2;\n",
              "      --hover-bg-color: #E2EBFA;\n",
              "      --hover-fill-color: #174EA6;\n",
              "      --disabled-fill-color: #AAA;\n",
              "      --disabled-bg-color: #DDD;\n",
              "  }\n",
              "\n",
              "  [theme=dark] .colab-df-quickchart {\n",
              "      --bg-color: #3B4455;\n",
              "      --fill-color: #D2E3FC;\n",
              "      --hover-bg-color: #434B5C;\n",
              "      --hover-fill-color: #FFFFFF;\n",
              "      --disabled-bg-color: #3B4455;\n",
              "      --disabled-fill-color: #666;\n",
              "  }\n",
              "\n",
              "  .colab-df-quickchart {\n",
              "    background-color: var(--bg-color);\n",
              "    border: none;\n",
              "    border-radius: 50%;\n",
              "    cursor: pointer;\n",
              "    display: none;\n",
              "    fill: var(--fill-color);\n",
              "    height: 32px;\n",
              "    padding: 0;\n",
              "    width: 32px;\n",
              "  }\n",
              "\n",
              "  .colab-df-quickchart:hover {\n",
              "    background-color: var(--hover-bg-color);\n",
              "    box-shadow: 0 1px 2px rgba(60, 64, 67, 0.3), 0 1px 3px 1px rgba(60, 64, 67, 0.15);\n",
              "    fill: var(--button-hover-fill-color);\n",
              "  }\n",
              "\n",
              "  .colab-df-quickchart-complete:disabled,\n",
              "  .colab-df-quickchart-complete:disabled:hover {\n",
              "    background-color: var(--disabled-bg-color);\n",
              "    fill: var(--disabled-fill-color);\n",
              "    box-shadow: none;\n",
              "  }\n",
              "\n",
              "  .colab-df-spinner {\n",
              "    border: 2px solid var(--fill-color);\n",
              "    border-color: transparent;\n",
              "    border-bottom-color: var(--fill-color);\n",
              "    animation:\n",
              "      spin 1s steps(1) infinite;\n",
              "  }\n",
              "\n",
              "  @keyframes spin {\n",
              "    0% {\n",
              "      border-color: transparent;\n",
              "      border-bottom-color: var(--fill-color);\n",
              "      border-left-color: var(--fill-color);\n",
              "    }\n",
              "    20% {\n",
              "      border-color: transparent;\n",
              "      border-left-color: var(--fill-color);\n",
              "      border-top-color: var(--fill-color);\n",
              "    }\n",
              "    30% {\n",
              "      border-color: transparent;\n",
              "      border-left-color: var(--fill-color);\n",
              "      border-top-color: var(--fill-color);\n",
              "      border-right-color: var(--fill-color);\n",
              "    }\n",
              "    40% {\n",
              "      border-color: transparent;\n",
              "      border-right-color: var(--fill-color);\n",
              "      border-top-color: var(--fill-color);\n",
              "    }\n",
              "    60% {\n",
              "      border-color: transparent;\n",
              "      border-right-color: var(--fill-color);\n",
              "    }\n",
              "    80% {\n",
              "      border-color: transparent;\n",
              "      border-right-color: var(--fill-color);\n",
              "      border-bottom-color: var(--fill-color);\n",
              "    }\n",
              "    90% {\n",
              "      border-color: transparent;\n",
              "      border-bottom-color: var(--fill-color);\n",
              "    }\n",
              "  }\n",
              "</style>\n",
              "\n",
              "      <script>\n",
              "        async function quickchart(key) {\n",
              "          const quickchartButtonEl =\n",
              "            document.querySelector('#' + key + ' button');\n",
              "          quickchartButtonEl.disabled = true;  // To prevent multiple clicks.\n",
              "          quickchartButtonEl.classList.add('colab-df-spinner');\n",
              "          try {\n",
              "            const charts = await google.colab.kernel.invokeFunction(\n",
              "                'suggestCharts', [key], {});\n",
              "          } catch (error) {\n",
              "            console.error('Error during call to suggestCharts:', error);\n",
              "          }\n",
              "          quickchartButtonEl.classList.remove('colab-df-spinner');\n",
              "          quickchartButtonEl.classList.add('colab-df-quickchart-complete');\n",
              "        }\n",
              "        (() => {\n",
              "          let quickchartButtonEl =\n",
              "            document.querySelector('#df-3f395423-cc32-439e-a5bb-38050c581277 button');\n",
              "          quickchartButtonEl.style.display =\n",
              "            google.colab.kernel.accessAllowed ? 'block' : 'none';\n",
              "        })();\n",
              "      </script>\n",
              "    </div>\n",
              "\n",
              "  <div id=\"id_fb9af7c9-cc71-4384-89c3-5db48398d534\">\n",
              "    <style>\n",
              "      .colab-df-generate {\n",
              "        background-color: #E8F0FE;\n",
              "        border: none;\n",
              "        border-radius: 50%;\n",
              "        cursor: pointer;\n",
              "        display: none;\n",
              "        fill: #1967D2;\n",
              "        height: 32px;\n",
              "        padding: 0 0 0 0;\n",
              "        width: 32px;\n",
              "      }\n",
              "\n",
              "      .colab-df-generate:hover {\n",
              "        background-color: #E2EBFA;\n",
              "        box-shadow: 0px 1px 2px rgba(60, 64, 67, 0.3), 0px 1px 3px 1px rgba(60, 64, 67, 0.15);\n",
              "        fill: #174EA6;\n",
              "      }\n",
              "\n",
              "      [theme=dark] .colab-df-generate {\n",
              "        background-color: #3B4455;\n",
              "        fill: #D2E3FC;\n",
              "      }\n",
              "\n",
              "      [theme=dark] .colab-df-generate:hover {\n",
              "        background-color: #434B5C;\n",
              "        box-shadow: 0px 1px 3px 1px rgba(0, 0, 0, 0.15);\n",
              "        filter: drop-shadow(0px 1px 2px rgba(0, 0, 0, 0.3));\n",
              "        fill: #FFFFFF;\n",
              "      }\n",
              "    </style>\n",
              "    <button class=\"colab-df-generate\" onclick=\"generateWithVariable('sample_df')\"\n",
              "            title=\"Generate code using this dataframe.\"\n",
              "            style=\"display:none;\">\n",
              "\n",
              "  <svg xmlns=\"http://www.w3.org/2000/svg\" height=\"24px\"viewBox=\"0 0 24 24\"\n",
              "       width=\"24px\">\n",
              "    <path d=\"M7,19H8.4L18.45,9,17,7.55,7,17.6ZM5,21V16.75L18.45,3.32a2,2,0,0,1,2.83,0l1.4,1.43a1.91,1.91,0,0,1,.58,1.4,1.91,1.91,0,0,1-.58,1.4L9.25,21ZM18.45,9,17,7.55Zm-12,3A5.31,5.31,0,0,0,4.9,8.1,5.31,5.31,0,0,0,1,6.5,5.31,5.31,0,0,0,4.9,4.9,5.31,5.31,0,0,0,6.5,1,5.31,5.31,0,0,0,8.1,4.9,5.31,5.31,0,0,0,12,6.5,5.46,5.46,0,0,0,6.5,12Z\"/>\n",
              "  </svg>\n",
              "    </button>\n",
              "    <script>\n",
              "      (() => {\n",
              "      const buttonEl =\n",
              "        document.querySelector('#id_fb9af7c9-cc71-4384-89c3-5db48398d534 button.colab-df-generate');\n",
              "      buttonEl.style.display =\n",
              "        google.colab.kernel.accessAllowed ? 'block' : 'none';\n",
              "\n",
              "      buttonEl.onclick = () => {\n",
              "        google.colab.notebook.generateWithVariable('sample_df');\n",
              "      }\n",
              "      })();\n",
              "    </script>\n",
              "  </div>\n",
              "\n",
              "    </div>\n",
              "  </div>\n"
            ],
            "application/vnd.google.colaboratory.intrinsic+json": {
              "type": "dataframe",
              "variable_name": "sample_df"
            }
          },
          "metadata": {}
        }
      ]
    },
    {
      "cell_type": "markdown",
      "metadata": {
        "id": "6be40ca3"
      },
      "source": [
        "-----------------------------------------------------------------\n",
        "# 6  Load rpy2 (Python)"
      ]
    },
    {
      "cell_type": "code",
      "metadata": {
        "id": "7f465618"
      },
      "source": [
        "%load_ext rpy2.ipython"
      ],
      "execution_count": 5,
      "outputs": []
    },
    {
      "cell_type": "markdown",
      "metadata": {
        "id": "75dcee11"
      },
      "source": [
        "-----------------------------------------------------------------\n",
        "# 7  R | Package install (one-time) and load"
      ]
    },
    {
      "cell_type": "code",
      "metadata": {
        "id": "82d4ec18"
      },
      "source": [
        "%%R\n",
        "req_pkgs <- c(\"data.table\",\"survey\",\"dplyr\",\"tidyverse\",\"tidycensus\",\n",
        "              \"ggplot2\",\"gridExtra\",\"pROC\",\"broom\",\"lme4\")\n",
        "new <- req_pkgs[!req_pkgs %in% installed.packages()[,\"Package\"]]\n",
        "if(length(new)) install.packages(new, repos = \"https://cloud.r-project.org\")\n",
        "\n",
        "# Check which packages were successfully installed and load them\n",
        "installed <- installed.packages()[,\"Package\"]\n",
        "loaded_pkgs <- c()\n",
        "failed_pkgs <- c()\n",
        "for (pkg in req_pkgs) {\n",
        "  if (pkg %in% installed) {\n",
        "    library(pkg, character.only = TRUE)\n",
        "    loaded_pkgs <- c(loaded_pkgs, pkg)\n",
        "  } else {\n",
        "    failed_pkgs <- c(failed_pkgs, pkg)\n",
        "  }\n",
        "}\n",
        "\n",
        "if (length(failed_pkgs) > 0) {\n",
        "  cat(\"Warning: The following packages failed to install and were not loaded:\", paste(failed_pkgs, collapse = \", \"), \"\\n\")\n",
        "}"
      ],
      "execution_count": null,
      "outputs": []
    },
    {
      "cell_type": "markdown",
      "metadata": {
        "id": "d6f7737d"
      },
      "source": [
        "-----------------------------------------------------------------\n",
        "# 8  R | Read the CSV with data.table (fast)"
      ]
    },
    {
      "cell_type": "code",
      "metadata": {
        "id": "10dad708"
      },
      "source": [
        "%%R -i DATA_PATH -i VERBOSE_PRINTS\n",
        "options(datatable.print.nrows = 10)\n",
        "\n",
        "NASS <- fread(DATA_PATH)\n",
        "if (VERBOSE_PRINTS) print(NASS[1:10])\n",
        "\n",
        "# Light type coercion\n",
        "# (see data.table v1.15+: we can refer to external names with .. prefix [cran.r-project.org](https://cran.r-project.org/web/packages/data.table/refman/data.table.html) )\n",
        "num_cols  <- c(\"AGE\",\"DISCWT\",\"TOTCHG\",\"TOTAL_AS_ENCOUNTERS\")\n",
        "NASS[, (num_cols) := lapply(.SD, as.numeric), .SDcols = num_cols]\n",
        "\n",
        "# Boolean helper\n",
        "NASS[, WHITE := fifelse(RACE == 1, 1, 0)]"
      ],
      "execution_count": null,
      "outputs": []
    },
    {
      "cell_type": "markdown",
      "metadata": {
        "id": "3e94d69c"
      },
      "source": [
        "-----------------------------------------------------------------\n",
        "# 9  R | Replicate headline counts"
      ]
    },
    {
      "cell_type": "code",
      "metadata": {
        "id": "7341f8ab"
      },
      "source": [
        "%%R\n",
        "cat(\"Rows:\", nrow(NASS), \"  Cols:\", ncol(NASS), \"\\n\")\n",
        "top10 <- NASS[, .N, by = CPTCCS1][order(-N)][1:10]\n",
        "knitr::kable(top10, caption = \"Top 10 CPTCCS1 counts (simulated)\")"
      ],
      "execution_count": null,
      "outputs": []
    },
    {
      "cell_type": "markdown",
      "metadata": {
        "id": "43230586"
      },
      "source": [
        "-----------------------------------------------------------------\n",
        "# 10  R | Income quartile vs procedure barplot"
      ]
    },
    {
      "cell_type": "code",
      "metadata": {
        "id": "ee3556ca"
      },
      "source": [
        "%%R\n",
        "top_codes <- top10$CPTCCS1\n",
        "plt_income <- NASS[CPTCCS1 %in% top_codes] |>\n",
        "  ggplot(aes(x = fct_infreq(CPTCCS1), fill = ZIPINC_QRTL)) +\n",
        "  geom_bar(position = \"fill\") +\n",
        "  scale_y_continuous(labels = scales::percent) +\n",
        "  coord_flip() +\n",
        "  labs(y = \"Share within CPT\", x = \"CPTCCS1\", fill = \"ZIP Quartile\",\n",
        "       title = \"Income distribution within 10 most-common procedures\")\n",
        "print(plt_income)"
      ],
      "execution_count": null,
      "outputs": []
    },
    {
      "cell_type": "markdown",
      "metadata": {
        "id": "20a6a8a8"
      },
      "source": [
        "-----------------------------------------------------------------\n",
        "# 11  Python | Environment variable for Census API"
      ]
    },
    {
      "cell_type": "code",
      "metadata": {
        "id": "6d0c69b9"
      },
      "source": [
        "import getpass, os, json, textwrap\n",
        "os.environ[\"CENSUS_API_KEY\"] = getpass.getpass(\"Enter your Census API key (will not echo):\")"
      ],
      "execution_count": null,
      "outputs": []
    },
    {
      "cell_type": "markdown",
      "metadata": {
        "id": "3c39ad38"
      },
      "source": [
        "-----------------------------------------------------------------\n",
        "# 12  R | Set Census key & pull 2020 DHC totals"
      ]
    },
    {
      "cell_type": "code",
      "metadata": {
        "id": "240fd569"
      },
      "source": [
        "%%R -i states_in_nass=character() -i VERBOSE_PRINTS\n",
        "# If you've already installed the key once, this is a no-op\n",
        "tidycensus::census_api_key(Sys.getenv(\"CENSUS_API_KEY\"), overwrite = FALSE, install = FALSE)\n",
        "\n",
        "get_vars <- function(base) sprintf(\"%s_%03dN\", base, 1:49)\n",
        "\n",
        "vars_total <- get_vars(\"P12\")\n",
        "vars_white <- get_vars(\"P12I\")\n",
        "\n",
        "pull_state_totals <- function(vars){\n",
        "  get_decennial(geography = \"state\",\n",
        "                variables = vars,\n",
        "                year = 2020, sumfile = \"dhc\") |>\n",
        "  group_by(NAME) |> summarise(total = sum(value))\n",
        "}\n",
        "\n",
        "total_pop  <- pull_state_totals(vars_total)\n",
        "white_pop  <- pull_state_totals(vars_white)\n",
        "\n",
        "census_prop <- merge(total_pop, white_pop, by = \"NAME\",\n",
        "                     suffixes = c(\"_all\",\"_white\"))\n",
        "census_prop[, prop_white := total_white / total_all]\n",
        "\n",
        "if (VERBOSE_PRINTS) head(census_prop)"
      ],
      "execution_count": null,
      "outputs": []
    },
    {
      "cell_type": "markdown",
      "metadata": {
        "id": "b6239ac5"
      },
      "source": [
        "-----------------------------------------------------------------\n",
        "# 13  R | Weighted vs unweighted proportion test"
      ]
    },
    {
      "cell_type": "code",
      "metadata": {
        "id": "e9a539f9"
      },
      "source": [
        "%%R\n",
        "library(survey)\n",
        "\n",
        "# Survey design using provided discharge weight\n",
        "des <- svydesign(ids = ~1, weights = ~DISCWT, data = NASS)\n",
        "\n",
        "unweighted_hat <- mean(NASS$WHITE)\n",
        "weighted_hat   <- svymean(~WHITE, des)[1]\n",
        "\n",
        "us_prop <- weighted.mean(census_prop$prop_white,\n",
        "                         w = census_prop$total_all)\n",
        "\n",
        "cat(sprintf(\"Unweighted NASS white %%: %.3f\\n\", unweighted_hat))\n",
        "cat(sprintf(\"Weighted   NASS white %%: %.3f\\n\", weighted_hat))\n",
        "cat(sprintf(\"2020 Census (all NASS states) white %%: %.3f\\n\", us_prop))\n",
        "\n",
        "svytest <- svyciprop(~WHITE, des,\n",
        "                     method = \"likelihood\", level = 0.95)\n",
        "print(svytest)"
      ],
      "execution_count": null,
      "outputs": []
    },
    {
      "cell_type": "markdown",
      "metadata": {
        "id": "d30e6ec7"
      },
      "source": [
        "-----------------------------------------------------------------\n",
        "# 14  R | Age-by-sex plot vs Census (adapted from `agesociodiv.r`)"
      ]
    },
    {
      "cell_type": "code",
      "metadata": {
        "id": "dfb4756f"
      },
      "source": [
        "%%R\n",
        "age_breaks <- c(-Inf,4,9,14,17,19,20,21,24,29,34,39,44,49,54,59,61,64,\n",
        "                66,69,74,79,84,Inf)\n",
        "age_labels <- c(\"U5\",\"5-9\",\"10-14\",\"15-17\",\"18-19\",\"20\",\"21\",\n",
        "                \"22-24\",\"25-29\",\"30-34\",\"35-39\",\"40-44\",\"45-49\",\n",
        "                \"50-54\",\"55-59\",\"60-61\",\"62-64\",\"65-66\",\"67-69\",\n",
        "                \"70-74\",\"75-79\",\"80-84\",\"85+\")\n",
        "\n",
        "NASS[, AGE_GROUP := cut(AGE, breaks = age_breaks,\n",
        "                        labels = age_labels, right = TRUE)]\n",
        "\n",
        "plot_df <- NASS[, .(white = sum(WHITE),\n",
        "                    n     = .N),\n",
        "                by = .(SEX = factor(FEMALE, labels=c(\"Male\",\"Female\")),\n",
        "                       AGE_GROUP)]\n",
        "plot_df[, prop := white/n]\n",
        "\n",
        "gg_gender <- ggplot(plot_df, aes(x = AGE_GROUP, y = prop,\n",
        "                                 group = SEX, color = SEX)) +\n",
        "  geom_line(linewidth=1) +\n",
        "  geom_point() +\n",
        "  scale_y_continuous(labels = scales::percent) +\n",
        "  labs(y = \"% White (NASS, simulated)\", x = \"Age-group\",\n",
        "       title = \"Crude white proportion by age & sex\") +\n",
        "  theme_minimal() +\n",
        "  theme(axis.text.x = element_text(angle=45, hjust=1))\n",
        "print(gg_gender)"
      ],
      "execution_count": null,
      "outputs": []
    },
    {
      "cell_type": "markdown",
      "metadata": {
        "id": "add395e2"
      },
      "source": [
        "-----------------------------------------------------------------\n",
        "# 15  R | Multilevel logistic models (hospital nested, 3 tiers)"
      ]
    },
    {
      "cell_type": "code",
      "metadata": {
        "id": "8574bf3a"
      },
      "source": [
        "%%R\n",
        "features <- NASS[, .(WHITE,\n",
        "                     FEMALE,\n",
        "                     ZIPINC_QRTL,\n",
        "                     PAY1,\n",
        "                     CPTCCS1,\n",
        "                     HOSP_LOCATION,\n",
        "                     HOSP_TEACH,\n",
        "                     HOSP_NASS)]\n",
        "\n",
        "features[, c(names(features)) := lapply(.SD, as.factor)]\n",
        "\n",
        "formulas <- list(\n",
        "  m1 = WHITE ~ FEMALE + (1|HOSP_NASS),\n",
        "  m2 = WHITE ~ FEMALE + ZIPINC_QRTL + (1|HOSP_NASS),\n",
        "  m3 = WHITE ~ FEMALE + ZIPINC_QRTL + PAY1 + CPTCCS1 +\n",
        "                    HOSP_LOCATION + HOSP_TEACH + (1|HOSP_NASS)\n",
        ")\n",
        "\n",
        "fit <- lapply(formulas, glmer, family = binomial, data = features,\n",
        "              control = glmerControl(optimizer=\"bobyqa\", optCtrl=list(maxfun=2e4)))\n",
        "\n",
        "sapply(fit, function(m) broom::tidy(m, effects = \"fixed\")[1:5,])"
      ],
      "execution_count": null,
      "outputs": []
    },
    {
      "cell_type": "markdown",
      "metadata": {
        "id": "aa999863"
      },
      "source": [
        "-----------------------------------------------------------------\n",
        "# 16  R | Compare AUC across the three models"
      ]
    },
    {
      "cell_type": "code",
      "metadata": {
        "id": "a9781417"
      },
      "source": [
        "%%R\n",
        "library(pROC)\n",
        "auc_vals <- sapply(fit, function(m){\n",
        "  preds <- predict(m, type=\"response\")\n",
        "  roc(features$WHITE, preds)$auc\n",
        "})\n",
        "knitr::kable(data.frame(model = names(auc_vals), AUC = auc_vals),\n",
        "             caption = \"AUC (in-sample, simulated data)\")"
      ],
      "execution_count": null,
      "outputs": []
    },
    {
      "cell_type": "markdown",
      "metadata": {
        "id": "1a2a8180"
      },
      "source": [
        "-----------------------------------------------------------------\n",
        "# 17  Python | Teardown helper (optional)"
      ]
    },
    {
      "cell_type": "code",
      "metadata": {
        "id": "38a0324d"
      },
      "source": [
        "if not USE_DRIVE:\n",
        "    print(\"Done ✅ — runtime will auto-delete downloaded CSV when session ends.\")"
      ],
      "execution_count": null,
      "outputs": []
    }
  ]
}