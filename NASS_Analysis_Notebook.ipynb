{
 "cells": [
  {
   "cell_type": "code",
   "execution_count": null,
   "metadata": {
    "vscode": {
     "languageId": "plaintext"
    }
   },
   "outputs": [],
   "source": [
    "# Install required Python libraries\n",
    "!pip install rpy2 matplotlib pandas\n",
    "\n",
    "# Load rpy2 to run R code in the notebook\n",
    "%load_ext rpy2.ipython"
   ]
  },
  {
   "cell_type": "code",
   "execution_count": null,
   "metadata": {
    "vscode": {
     "languageId": "plaintext"
    }
   },
   "outputs": [],
   "source": [
    "%%R\n",
    "### Load Data\n",
    "\n",
    "# Load required libraries\n",
    "library(data.table)\n",
    "library(ggplot2)\n",
    "library(dplyr)\n",
    "library(survey)\n",
    "\n",
    "# Load pre-cleaned NASS 2020 data (assume available in Colab environment)\n",
    "NASS_2020_all <- fread(\"/content/NASS_2020_all.csv\")\n",
    "\n",
    "# Verify data structure\n",
    "str(NASS_2020_all)"
   ]
  },
  {
   "cell_type": "code",
   "execution_count": null,
   "metadata": {
    "vscode": {
     "languageId": "plaintext"
    }
   },
   "outputs": [],
   "source": [
    "%%R\n",
    "### Age and Sociodemographic Diversity Analysis\n",
    "\n",
    "# Create a dummy variable for White individuals\n",
    "NASS_2020_all[, WHITE := ifelse(RACE == 1, 1, 0)]\n",
    "\n",
    "# Calculate unadjusted proportion of White individuals\n",
    "unadjusted_proportion_white <- mean(NASS_2020_all$WHITE)\n",
    "print(paste(\"Unadjusted proportion of WHITE:\", unadjusted_proportion_white))\n",
    "\n",
    "# Perform weighted analysis using survey package\n",
    "design <- svydesign(ids = ~KEY_NASS, weights = ~DISCWT, data = NASS_2020_all)\n",
    "weighted_proportion_white <- svymean(~WHITE, design)\n",
    "print(paste(\"Weighted proportion of WHITE:\", coef(weighted_proportion_white)))\n",
    "\n",
    "# Save results to a CSV file\n",
    "write.csv(data.frame(Unadjusted = unadjusted_proportion_white, Weighted = coef(weighted_proportion_white)), \"/content/White_Proportion_Analysis.csv\", row.names = FALSE)"
   ]
  },
  {
   "cell_type": "code",
   "execution_count": null,
   "metadata": {
    "vscode": {
     "languageId": "plaintext"
    }
   },
   "outputs": [],
   "source": [
    "%%R\n",
    "### Generate Overview Graphs\n",
    "\n",
    "# Define labels for factor variables\n",
    "teach_labels <- c(\"0\" = \"Non-Teaching\", \"1\" = \"Teaching\")\n",
    "location_labels <- c(\"0\" = \"Rural\", \"1\" = \"Urban\")\n",
    "bed_labels <- c(\"1\" = \"0-99\", \"2\" = \"100-299\", \"3\" = \"300+\")\n",
    "region_labels <- c(\"1\" = \"Northeast\", \"2\" = \"Midwest\", \"3\" = \"South\", \"4\" = \"West\")\n",
    "race_labels <- c(\"1\" = \"White\", \"2\" = \"Black\", \"3\" = \"Hispanic\", \"4\" = \"Asian/Pacific\", \"5\" = \"Native\", \"6\" = \"Other\")\n",
    "\n",
    "# Define a consistent theme for all plots\n",
    "custom_theme <- theme_minimal() +\n",
    "  theme(text = element_text(size = 12), axis.text.x = element_text(angle = 45, hjust = 1), legend.position = \"bottom\", legend.title = element_blank())\n",
    "\n",
    "# FIGURE 1: Hospitals by Region and Bed Size\n",
    "fig1 <- ggplot(NASS_2020_all, aes(x = HOSP_REGION, fill = HOSP_BEDSIZE_CAT)) +\n",
    "  geom_bar() +\n",
    "  custom_theme +\n",
    "  xlab(\"US Region\") +\n",
    "  ggtitle(\"Hospitals within NASS 2020 Dataset\", subtitle = \"Segmented by Bed Size Category\")\n",
    "\n",
    "# Save the plot\n",
    "ggsave(\"/content/Hospitals_by_Region_and_Bed_Size.png\", plot = fig1)\n",
    "\n",
    "# FIGURE 2: Age Distribution by Race\n",
    "fig2 <- ggplot(NASS_2020_all, aes(x = AGE, fill = RACE)) +\n",
    "  geom_density(alpha = 0.5) +\n",
    "  custom_theme +\n",
    "  xlab(\"Age\") +\n",
    "  ggtitle(\"Age Distribution by Race\")\n",
    "\n",
    "# Save the plot\n",
    "ggsave(\"/content/Age_Distribution_by_Race.png\", plot = fig2)"
   ]
  },
  {
   "cell_type": "code",
   "execution_count": null,
   "metadata": {
    "vscode": {
     "languageId": "plaintext"
    }
   },
   "outputs": [],
   "source": [
    "%%R\n",
    "### Save Outputs\n",
    "\n",
    "# Save cleaned data and graphs\n",
    "fwrite(NASS_2020_all, \"/content/NASS_2020_all_cleaned.csv\")\n",
    "print(\"All outputs saved to Colab environment.\")"
   ]
  },
  {
   "cell_type": "code",
   "execution_count": null,
   "metadata": {
    "vscode": {
     "languageId": "plaintext"
    }
   },
   "outputs": [],
   "source": [
    "%%R\n",
    "### Poster Space Setup\n",
    "\n",
    "# Combine all plots into a single PDF for presentation\n",
    "pdf(\"/content/NASS_Analysis_Poster.pdf\", width = 12, height = 8)\n",
    "\n",
    "# Add Figure 1\n",
    "print(fig1)\n",
    "\n",
    "# Add Figure 2\n",
    "print(fig2)\n",
    "\n",
    "# Close the PDF\n",
    "dev.off()\n",
    "\n",
    "# Save cleaned data for poster reference\n",
    "fwrite(NASS_2020_all, \"/content/NASS_2020_all_cleaned.csv\")\n",
    "print(\"Poster PDF and cleaned data saved to Colab environment.\")"
   ]
  }
 ],
 "metadata": {
  "language_info": {
   "name": "python"
  }
 },
 "nbformat": 4,
 "nbformat_minor": 2
}
