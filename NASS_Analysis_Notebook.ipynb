{
  "cells": [
    {
      "cell_type": "code",
      "execution_count": 1,
      "metadata": {
        "vscode": {
          "languageId": "plaintext"
        },
        "id": "AYdedk8jWH4t",
        "outputId": "416707d7-41a0-4b68-85ab-794bfdd36c55",
        "colab": {
          "base_uri": "https://localhost:8080/"
        }
      },
      "outputs": [
        {
          "output_type": "stream",
          "name": "stdout",
          "text": [
            "Requirement already satisfied: rpy2 in /usr/local/lib/python3.11/dist-packages (3.5.17)\n",
            "Requirement already satisfied: matplotlib in /usr/local/lib/python3.11/dist-packages (3.10.0)\n",
            "Requirement already satisfied: pandas in /usr/local/lib/python3.11/dist-packages (2.2.2)\n",
            "Requirement already satisfied: cffi>=1.15.1 in /usr/local/lib/python3.11/dist-packages (from rpy2) (1.17.1)\n",
            "Requirement already satisfied: jinja2 in /usr/local/lib/python3.11/dist-packages (from rpy2) (3.1.6)\n",
            "Requirement already satisfied: tzlocal in /usr/local/lib/python3.11/dist-packages (from rpy2) (5.3.1)\n",
            "Requirement already satisfied: contourpy>=1.0.1 in /usr/local/lib/python3.11/dist-packages (from matplotlib) (1.3.1)\n",
            "Requirement already satisfied: cycler>=0.10 in /usr/local/lib/python3.11/dist-packages (from matplotlib) (0.12.1)\n",
            "Requirement already satisfied: fonttools>=4.22.0 in /usr/local/lib/python3.11/dist-packages (from matplotlib) (4.56.0)\n",
            "Requirement already satisfied: kiwisolver>=1.3.1 in /usr/local/lib/python3.11/dist-packages (from matplotlib) (1.4.8)\n",
            "Requirement already satisfied: numpy>=1.23 in /usr/local/lib/python3.11/dist-packages (from matplotlib) (2.0.2)\n",
            "Requirement already satisfied: packaging>=20.0 in /usr/local/lib/python3.11/dist-packages (from matplotlib) (24.2)\n",
            "Requirement already satisfied: pillow>=8 in /usr/local/lib/python3.11/dist-packages (from matplotlib) (11.1.0)\n",
            "Requirement already satisfied: pyparsing>=2.3.1 in /usr/local/lib/python3.11/dist-packages (from matplotlib) (3.2.1)\n",
            "Requirement already satisfied: python-dateutil>=2.7 in /usr/local/lib/python3.11/dist-packages (from matplotlib) (2.8.2)\n",
            "Requirement already satisfied: pytz>=2020.1 in /usr/local/lib/python3.11/dist-packages (from pandas) (2025.1)\n",
            "Requirement already satisfied: tzdata>=2022.7 in /usr/local/lib/python3.11/dist-packages (from pandas) (2025.1)\n",
            "Requirement already satisfied: pycparser in /usr/local/lib/python3.11/dist-packages (from cffi>=1.15.1->rpy2) (2.22)\n",
            "Requirement already satisfied: six>=1.5 in /usr/local/lib/python3.11/dist-packages (from python-dateutil>=2.7->matplotlib) (1.17.0)\n",
            "Requirement already satisfied: MarkupSafe>=2.0 in /usr/local/lib/python3.11/dist-packages (from jinja2->rpy2) (3.0.2)\n"
          ]
        }
      ],
      "source": [
        "# Install required Python libraries\n",
        "!pip install rpy2 matplotlib pandas\n",
        "\n",
        "# Load rpy2 to run R code in the notebook\n",
        "%load_ext rpy2.ipython"
      ]
    },
    {
      "cell_type": "code",
      "source": [
        "### Mount google drive\n",
        "from google.colab import drive\n",
        "drive.mount('/content/drive')"
      ],
      "metadata": {
        "id": "4ro_XM4hDyZm",
        "outputId": "7abb20e3-7082-43c9-cd07-a9493ca326ab",
        "colab": {
          "base_uri": "https://localhost:8080/"
        }
      },
      "execution_count": 11,
      "outputs": [
        {
          "output_type": "stream",
          "name": "stdout",
          "text": [
            "Drive already mounted at /content/drive; to attempt to forcibly remount, call drive.mount(\"/content/drive\", force_remount=True).\n"
          ]
        }
      ]
    },
    {
      "cell_type": "code",
      "source": [],
      "metadata": {
        "id": "rRhYJemWEvIz"
      },
      "execution_count": null,
      "outputs": []
    },
    {
      "cell_type": "code",
      "execution_count": 12,
      "metadata": {
        "vscode": {
          "languageId": "plaintext"
        },
        "id": "_4-t1N-WWH4w",
        "outputId": "cb7b98c9-5609-4cf0-8b5c-fe75a4b3ba64",
        "colab": {
          "base_uri": "https://localhost:8080/",
          "height": 139
        }
      },
      "outputs": [
        {
          "output_type": "stream",
          "name": "stdout",
          "text": [
            "Classes ‘data.table’ and 'data.frame':\t0 obs. of  0 variables\n",
            " - attr(*, \".internal.selfref\")=<externalptr> \n"
          ]
        },
        {
          "output_type": "display_data",
          "data": {
            "text/plain": [
              "In addition: Warning messages:\n",
              "1: In (if (.Platform$OS.type == \"unix\") system else shell)(paste0(\"(\",  :\n",
              "  error in running command\n",
              "2: In fread(\"/content/drive/My Drive/test.csv\") :\n",
              "  File '/tmp/Rtmp34bHuk/file54c668541c0' has size 0. Returning a NULL data.table.\n"
            ]
          },
          "metadata": {}
        }
      ],
      "source": [
        "%%R\n",
        "\n",
        "# Load required libraries\n",
        "library(data.table)\n",
        "library(ggplot2)\n",
        "library(dplyr)\n",
        "\n",
        "# Load pre-cleaned NASS 2020 data (assume available in Colab environment)\n",
        "NASS_2020_all <- fread(\"/content/drive/My Drive/test.csv\")\n",
        "\n",
        "# Verify data structure\n",
        "str(NASS_2020_all)"
      ]
    },
    {
      "source": [
        "#load data\n",
        "\n",
        "%%R\n",
        "library(data.table)\n",
        "\n",
        "# 1. Check if file exists:\n",
        "file_path <- \"/content/drive/My Drive/test.csv\"\n",
        "if (file.exists(file_path)) {\n",
        "  print(\"File found!\")\n",
        "} else {\n",
        "  print(paste(\"File not found at:\", file_path))\n",
        "  # If not found, double-check the path or upload the file to the correct location\n",
        "  stop(\"File not found. Exiting.\")\n",
        "}\n",
        "\n",
        "# 2. Attempt to load using fread:\n",
        "NASS_2020_all <- fread(file_path)\n",
        "\n",
        "# 3. Verify data structure:\n",
        "str(NASS_2020_all)"
      ],
      "cell_type": "code",
      "metadata": {
        "id": "CzvwQxlWGFXN",
        "outputId": "107b01b9-a505-4dc2-f5ee-e1d4b4b07bf0",
        "colab": {
          "base_uri": "https://localhost:8080/"
        }
      },
      "execution_count": 13,
      "outputs": [
        {
          "output_type": "stream",
          "name": "stdout",
          "text": [
            "[1] \"File found!\"\n",
            "Classes ‘data.table’ and 'data.frame':\t371290 obs. of  17 variables:\n",
            " $ file   : int  15 15 15 15 15 15 15 15 15 15 ...\n",
            " $ trans  : int  735496 735496 735496 735496 735496 735496 735496 735496 735496 735496 ...\n",
            " $ date   : chr  \"9/21/2015\" \"9/21/2015\" \"9/21/2015\" \"9/21/2015\" ...\n",
            " $ time   : chr  \"17:00:05\" \"17:00:10\" \"17:00:15\" \"17:00:20\" ...\n",
            " $ dtnum  : num  42269 42269 42269 42269 42269 ...\n",
            " $ dsi    : int  17 17 17 17 17 17 17 17 17 17 ...\n",
            " $ rdn    : int  -45 -45 -45 -45 -45 -45 -45 -45 -45 -45 ...\n",
            " $ hfhs   : int  -11 -11 -11 -11 -11 -11 -11 -11 -11 -11 ...\n",
            " $ term   : int  -79 -79 -79 -79 -79 -79 -79 -79 -79 -79 ...\n",
            " $ deli   : int  45 45 45 45 45 45 45 45 45 45 ...\n",
            " $ abstart: int  -20 -20 -20 -20 -20 -20 -20 -20 -20 -20 ...\n",
            " $ abend  : int  -64 -64 -64 -64 -64 -64 -64 -64 -64 -64 ...\n",
            " $ dn     : chr  \"Day\" \"Day\" \"Day\" \"Day\" ...\n",
            " $ exp    : chr  \"RDN\" \"RDN\" \"RDN\" \"RDN\" ...\n",
            " $ hr     : int  95 107 105 101 111 107 97 111 104 99 ...\n",
            " $ sys    : num  151 147 147 149 148 ...\n",
            " $ dia    : num  94.5 96.9 94.7 93.6 97.7 ...\n",
            " - attr(*, \".internal.selfref\")=<externalptr> \n"
          ]
        }
      ]
    },
    {
      "cell_type": "code",
      "execution_count": null,
      "metadata": {
        "vscode": {
          "languageId": "plaintext"
        },
        "id": "uZhH8KmuWH4x"
      },
      "outputs": [],
      "source": [
        "%%R\n",
        "### Age and Sociodemographic Diversity Analysis\n",
        "\n",
        "# Create a dummy variable for White individuals\n",
        "NASS_2020_all[, WHITE := ifelse(RACE == 1, 1, 0)]\n",
        "\n",
        "# Calculate unadjusted proportion of White individuals\n",
        "unadjusted_proportion_white <- mean(NASS_2020_all$WHITE)\n",
        "print(paste(\"Unadjusted proportion of WHITE:\", unadjusted_proportion_white))\n",
        "\n",
        "# Perform weighted analysis using survey package\n",
        "design <- svydesign(ids = ~KEY_NASS, weights = ~DISCWT, data = NASS_2020_all)\n",
        "weighted_proportion_white <- svymean(~WHITE, design)\n",
        "print(paste(\"Weighted proportion of WHITE:\", coef(weighted_proportion_white)))\n",
        "\n",
        "# Save results to a CSV file\n",
        "write.csv(data.frame(Unadjusted = unadjusted_proportion_white, Weighted = coef(weighted_proportion_white)), \"/content/White_Proportion_Analysis.csv\", row.names = FALSE)"
      ]
    },
    {
      "cell_type": "code",
      "execution_count": null,
      "metadata": {
        "vscode": {
          "languageId": "plaintext"
        },
        "id": "sDTrYzkyWH4y"
      },
      "outputs": [],
      "source": [
        "%%R\n",
        "### Generate Overview Graphs\n",
        "\n",
        "# Define labels for factor variables\n",
        "teach_labels <- c(\"0\" = \"Non-Teaching\", \"1\" = \"Teaching\")\n",
        "location_labels <- c(\"0\" = \"Rural\", \"1\" = \"Urban\")\n",
        "bed_labels <- c(\"1\" = \"0-99\", \"2\" = \"100-299\", \"3\" = \"300+\")\n",
        "region_labels <- c(\"1\" = \"Northeast\", \"2\" = \"Midwest\", \"3\" = \"South\", \"4\" = \"West\")\n",
        "race_labels <- c(\"1\" = \"White\", \"2\" = \"Black\", \"3\" = \"Hispanic\", \"4\" = \"Asian/Pacific\", \"5\" = \"Native\", \"6\" = \"Other\")\n",
        "\n",
        "# Define a consistent theme for all plots\n",
        "custom_theme <- theme_minimal() +\n",
        "  theme(text = element_text(size = 12), axis.text.x = element_text(angle = 45, hjust = 1), legend.position = \"bottom\", legend.title = element_blank())\n",
        "\n",
        "# FIGURE 1: Hospitals by Region and Bed Size\n",
        "fig1 <- ggplot(NASS_2020_all, aes(x = HOSP_REGION, fill = HOSP_BEDSIZE_CAT)) +\n",
        "  geom_bar() +\n",
        "  custom_theme +\n",
        "  xlab(\"US Region\") +\n",
        "  ggtitle(\"Hospitals within NASS 2020 Dataset\", subtitle = \"Segmented by Bed Size Category\")\n",
        "\n",
        "# Save the plot\n",
        "ggsave(\"/content/Hospitals_by_Region_and_Bed_Size.png\", plot = fig1)\n",
        "\n",
        "# FIGURE 2: Age Distribution by Race\n",
        "fig2 <- ggplot(NASS_2020_all, aes(x = AGE, fill = RACE)) +\n",
        "  geom_density(alpha = 0.5) +\n",
        "  custom_theme +\n",
        "  xlab(\"Age\") +\n",
        "  ggtitle(\"Age Distribution by Race\")\n",
        "\n",
        "# Save the plot\n",
        "ggsave(\"/content/Age_Distribution_by_Race.png\", plot = fig2)"
      ]
    },
    {
      "cell_type": "code",
      "execution_count": null,
      "metadata": {
        "vscode": {
          "languageId": "plaintext"
        },
        "id": "Ox69veAdWH4z"
      },
      "outputs": [],
      "source": [
        "%%R\n",
        "### Save Outputs\n",
        "\n",
        "# Save cleaned data and graphs\n",
        "fwrite(NASS_2020_all, \"/content/NASS_2020_all_cleaned.csv\")\n",
        "print(\"All outputs saved to Colab environment.\")"
      ]
    },
    {
      "cell_type": "code",
      "execution_count": null,
      "metadata": {
        "vscode": {
          "languageId": "plaintext"
        },
        "id": "SinInAC8WH4z"
      },
      "outputs": [],
      "source": [
        "%%R\n",
        "### Poster Space Setup\n",
        "\n",
        "# Combine all plots into a single PDF for presentation\n",
        "pdf(\"/content/NASS_Analysis_Poster.pdf\", width = 12, height = 8)\n",
        "\n",
        "# Add Figure 1\n",
        "print(fig1)\n",
        "\n",
        "# Add Figure 2\n",
        "print(fig2)\n",
        "\n",
        "# Close the PDF\n",
        "dev.off()\n",
        "\n",
        "# Save cleaned data for poster reference\n",
        "fwrite(NASS_2020_all, \"/content/NASS_2020_all_cleaned.csv\")\n",
        "print(\"Poster PDF and cleaned data saved to Colab environment.\")"
      ]
    }
  ],
  "metadata": {
    "language_info": {
      "name": "python"
    },
    "colab": {
      "provenance": []
    },
    "kernelspec": {
      "name": "python3",
      "display_name": "Python 3"
    }
  },
  "nbformat": 4,
  "nbformat_minor": 0
}